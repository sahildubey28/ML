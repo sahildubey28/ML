{
  "nbformat": 4,
  "nbformat_minor": 0,
  "metadata": {
    "kernelspec": {
      "name": "python3",
      "display_name": "Python 3"
    },
    "toc": {
      "nav_menu": {},
      "number_sections": true,
      "sideBar": true,
      "skip_h1_title": false,
      "toc_cell": true,
      "toc_position": {},
      "toc_section_display": "block",
      "toc_window_display": false
    },
    "colab": {
      "name": "Copy of CO -CST  Neural_network_for_Mnist_number_dataset.ipynb",
      "provenance": [],
      "collapsed_sections": [],
      "include_colab_link": true
    },
    "accelerator": "GPU"
  },
  "cells": [
    {
      "cell_type": "markdown",
      "metadata": {
        "id": "view-in-github",
        "colab_type": "text"
      },
      "source": [
        "<a href=\"https://colab.research.google.com/github/sahildubey28/ML/blob/main/Copy_of_CO_CST_Neural_network_for_Mnist_number_dataset.ipynb\" target=\"_parent\"><img src=\"https://colab.research.google.com/assets/colab-badge.svg\" alt=\"Open In Colab\"/></a>"
      ]
    },
    {
      "cell_type": "markdown",
      "metadata": {
        "toc": true,
        "id": "zQvT7bhRzp4e"
      },
      "source": [
        "<h1>Table of Contents<span class=\"tocSkip\"></span></h1>\n",
        "<div class=\"toc\" style=\"margin-top: 1em;\"><ul class=\"toc-item\"><li><span><a href=\"#Loading-the-MNIST-dataset-in-Keras\" data-toc-modified-id=\"Loading-the-MNIST-dataset-in-Keras-1\"><span class=\"toc-item-num\">1&nbsp;&nbsp;</span>Loading the MNIST dataset in Keras</a></span></li><li><span><a href=\"#The-network-architecture\" data-toc-modified-id=\"The-network-architecture-2\"><span class=\"toc-item-num\">2&nbsp;&nbsp;</span>The network architecture</a></span></li><li><span><a href=\"#The-compilation-step\" data-toc-modified-id=\"The-compilation-step-3\"><span class=\"toc-item-num\">3&nbsp;&nbsp;</span>The compilation step</a></span></li><li><span><a href=\"#Preparing-the-image-data\" data-toc-modified-id=\"Preparing-the-image-data-4\"><span class=\"toc-item-num\">4&nbsp;&nbsp;</span>Preparing the image data</a></span></li><li><span><a href=\"#Preparing-the-labels\" data-toc-modified-id=\"Preparing-the-labels-5\"><span class=\"toc-item-num\">5&nbsp;&nbsp;</span>Preparing the labels</a></span></li><li><span><a href=\"#Training-and-Testing\" data-toc-modified-id=\"Training-and-Testing-6\"><span class=\"toc-item-num\">6&nbsp;&nbsp;</span>Training and Testing</a></span></li></ul></div>"
      ]
    },
    {
      "cell_type": "markdown",
      "metadata": {
        "id": "GSee4zKUzp4i"
      },
      "source": [
        "# Loading the MNIST dataset in Keras"
      ]
    },
    {
      "cell_type": "code",
      "metadata": {
        "id": "6a8IveFHzp4l"
      },
      "source": [
        "from keras.datasets import mnist"
      ],
      "execution_count": null,
      "outputs": []
    },
    {
      "cell_type": "code",
      "source": [
        "\n"
      ],
      "metadata": {
        "id": "sZLd8oxsTXdD"
      },
      "execution_count": null,
      "outputs": []
    },
    {
      "cell_type": "code",
      "metadata": {
        "id": "LQPmnZ8xzp4v",
        "colab": {
          "base_uri": "https://localhost:8080/"
        },
        "outputId": "23cf6f28-9cd3-48a4-bb96-f848e7ec09d2"
      },
      "source": [
        "(train_images, train_labels), (test_images, test_labels) = mnist.load_data()"
      ],
      "execution_count": null,
      "outputs": [
        {
          "output_type": "stream",
          "name": "stdout",
          "text": [
            "Downloading data from https://storage.googleapis.com/tensorflow/tf-keras-datasets/mnist.npz\n",
            "11493376/11490434 [==============================] - 0s 0us/step\n",
            "11501568/11490434 [==============================] - 0s 0us/step\n"
          ]
        }
      ]
    },
    {
      "cell_type": "markdown",
      "metadata": {
        "id": "mnZfS9HYzp4z"
      },
      "source": [
        "- The images are encoded as Numpy arrays, and the labels are an array of digits, ranging from 0 to 9."
      ]
    },
    {
      "cell_type": "code",
      "metadata": {
        "id": "VFdoffSmzp41",
        "outputId": "da3c099e-eff9-4a74-805b-671fd999d10d",
        "colab": {
          "base_uri": "https://localhost:8080/"
        }
      },
      "source": [
        "train_images.shape"
      ],
      "execution_count": null,
      "outputs": [
        {
          "output_type": "execute_result",
          "data": {
            "text/plain": [
              "(60000, 28, 28)"
            ]
          },
          "metadata": {},
          "execution_count": 3
        }
      ]
    },
    {
      "cell_type": "code",
      "metadata": {
        "id": "tD65nC-vzp45",
        "outputId": "9cead1ba-2a06-4df4-c63d-4abb8596e6dd",
        "colab": {
          "base_uri": "https://localhost:8080/"
        }
      },
      "source": [
        "len(train_labels)"
      ],
      "execution_count": null,
      "outputs": [
        {
          "output_type": "execute_result",
          "data": {
            "text/plain": [
              "60000"
            ]
          },
          "metadata": {},
          "execution_count": 4
        }
      ]
    },
    {
      "cell_type": "code",
      "metadata": {
        "id": "IX9LpWNazp4_",
        "outputId": "dc9be305-f80a-4931-f019-a1d27cfac35b",
        "colab": {
          "base_uri": "https://localhost:8080/"
        }
      },
      "source": [
        "train_labels"
      ],
      "execution_count": null,
      "outputs": [
        {
          "output_type": "execute_result",
          "data": {
            "text/plain": [
              "array([5, 0, 4, ..., 5, 6, 8], dtype=uint8)"
            ]
          },
          "metadata": {},
          "execution_count": 5
        }
      ]
    },
    {
      "cell_type": "code",
      "metadata": {
        "id": "SG0L5p4Dzp5D",
        "outputId": "4aad2661-4bf0-40ea-ba41-ec75adbfdfd5",
        "colab": {
          "base_uri": "https://localhost:8080/"
        }
      },
      "source": [
        "test_images.shape"
      ],
      "execution_count": null,
      "outputs": [
        {
          "output_type": "execute_result",
          "data": {
            "text/plain": [
              "(10000, 28, 28)"
            ]
          },
          "metadata": {},
          "execution_count": 6
        }
      ]
    },
    {
      "cell_type": "code",
      "metadata": {
        "id": "MimOH_Xnzp5I",
        "outputId": "1fca5337-c446-42cc-f3db-7a52f8dd4d71",
        "colab": {
          "base_uri": "https://localhost:8080/"
        }
      },
      "source": [
        "len(test_labels)"
      ],
      "execution_count": null,
      "outputs": [
        {
          "output_type": "execute_result",
          "data": {
            "text/plain": [
              "10000"
            ]
          },
          "metadata": {},
          "execution_count": 7
        }
      ]
    },
    {
      "cell_type": "code",
      "metadata": {
        "id": "8EHR0v0Bzp5M",
        "outputId": "4628297d-d20a-4305-82c9-3ed4fe5eb0fc",
        "colab": {
          "base_uri": "https://localhost:8080/"
        }
      },
      "source": [
        "test_labels"
      ],
      "execution_count": null,
      "outputs": [
        {
          "output_type": "execute_result",
          "data": {
            "text/plain": [
              "array([7, 2, 1, ..., 4, 5, 6], dtype=uint8)"
            ]
          },
          "metadata": {},
          "execution_count": 8
        }
      ]
    },
    {
      "cell_type": "markdown",
      "metadata": {
        "id": "s0Tp6nDRzp5R"
      },
      "source": [
        "Let's build the network"
      ]
    },
    {
      "cell_type": "markdown",
      "metadata": {
        "id": "WxbJXg2Czp5T"
      },
      "source": [
        "# The network architecture"
      ]
    },
    {
      "cell_type": "markdown",
      "metadata": {
        "id": "kGCxNrDdzp5U"
      },
      "source": [
        "- The core building block of neural networks is the **layer**, a data-processing module that you can think of as a filter for data.\n",
        "    - Some data goes in, and it comes out in a more useful form.\n",
        "    - Layers extract **representations** (hopefully, meaningful for the data problem at hand) out of the data fed into them.\n",
        "    \n",
        "- Most of deep learning consists of chaining together simple layers that will implement a form of progressive **data distillation**.\n",
        "- A deep learning model is like a sieve for data-processing, made of a succession of increasingly refined data filters--**the layers**."
      ]
    },
    {
      "cell_type": "code",
      "metadata": {
        "id": "uyUqGjPTzp5V"
      },
      "source": [
        "from keras import models\n",
        "from keras import layers"
      ],
      "execution_count": null,
      "outputs": []
    },
    {
      "cell_type": "code",
      "metadata": {
        "id": "NEVk0S9_zp5a"
      },
      "source": [
        "network = models.Sequential()\n",
        "# Dense(512) is a fully-connected layer with 512 hidden units.\n",
        "# in the first layer, you must specify the expected input data shape :\n",
        "# here, 28 X 28=784 -dimensional vectors.\n",
        "network.add(layers.Dense(32, activation='relu', input_shape=(28 * 28, )))\n",
        "network.add(layers.Dense(16, activation='tanh'))\n",
        "network.add(layers.Dense(10, activation='softmax'))"
      ],
      "execution_count": null,
      "outputs": []
    },
    {
      "cell_type": "markdown",
      "metadata": {
        "id": "Af2c2tvKzp5f"
      },
      "source": [
        "- Our network consists of a sequence of two *Dense* layers, which are densely connected (also called *fully connected*) neural layers.\n",
        "- The second (and last) layer is a **10-way** *softmax* layer, which means it will return an array of **10** probability scores. Each score will be the probability that the current digit image belongs to one of our 10 digit classes. "
      ]
    },
    {
      "cell_type": "markdown",
      "metadata": {
        "id": "NHbqJ-rWzp5g"
      },
      "source": [
        "# The compilation step"
      ]
    },
    {
      "cell_type": "markdown",
      "metadata": {
        "id": "1w0ne5wYzp5h"
      },
      "source": [
        "- To make the network ready for training, we need to pick three more things, as part of the **compilation** step:\n",
        " - **A loss function**-- How the network will be able to measure its performance on the training data, and thus how it will be able to steer itself in the right direction.\n",
        " - **An optimizer**--The mechanism through which the network will update itself based on the data it sees and its loss function.\n",
        " - **Metrics to monitor during training and testing**--Here, we will only care about accuracy (the fraction of the images that were correctly classified)."
      ]
    },
    {
      "cell_type": "code",
      "metadata": {
        "id": "uvSO-q9Ozp5i"
      },
      "source": [
        "network.compile(optimizer='adam',\n",
        "                loss='categorical_crossentropy',\n",
        "                metrics=['accuracy'])\n",
        "    "
      ],
      "execution_count": null,
      "outputs": []
    },
    {
      "cell_type": "markdown",
      "metadata": {
        "id": "fLHJqTLXzp5o"
      },
      "source": [
        "# Preparing the image data"
      ]
    },
    {
      "cell_type": "markdown",
      "metadata": {
        "id": "ajWKVl1-zp5q"
      },
      "source": [
        "Before training, we will preprocess the data by reshaping it into the shape the network expects and scaling it so that all values are in the $[0-1]$ interval."
      ]
    },
    {
      "cell_type": "code",
      "metadata": {
        "id": "4vMdz75Wzp5s"
      },
      "source": [
        "train_images = train_images.reshape((60000, 28 * 28))\n",
        "train_images = train_images.astype('float32') / 255."
      ],
      "execution_count": null,
      "outputs": []
    },
    {
      "cell_type": "code",
      "metadata": {
        "id": "4icW7vDgzp5w"
      },
      "source": [
        "test_images = test_images.reshape((10000, 28 * 28))\n",
        "test_images = test_images.astype('float32') / 255."
      ],
      "execution_count": null,
      "outputs": []
    },
    {
      "cell_type": "markdown",
      "metadata": {
        "id": "0SHD8Vvhzp5z"
      },
      "source": [
        "# Preparing the labels"
      ]
    },
    {
      "cell_type": "markdown",
      "metadata": {
        "id": "JA1YmuF1zp51"
      },
      "source": [
        "We also need to categorically encode the labels."
      ]
    },
    {
      "cell_type": "code",
      "metadata": {
        "id": "Bh42ABtgzp58"
      },
      "source": [
        "from tensorflow.keras.utils import to_categorical"
      ],
      "execution_count": null,
      "outputs": []
    },
    {
      "cell_type": "code",
      "metadata": {
        "id": "3eCqlapJzp6A",
        "outputId": "46497e8b-79a2-4873-d7e8-c375c312c307",
        "colab": {
          "base_uri": "https://localhost:8080/"
        }
      },
      "source": [
        "train_labels = to_categorical(train_labels)\n",
        "train_labels"
      ],
      "execution_count": null,
      "outputs": [
        {
          "output_type": "execute_result",
          "data": {
            "text/plain": [
              "array([[0., 0., 0., ..., 0., 0., 0.],\n",
              "       [1., 0., 0., ..., 0., 0., 0.],\n",
              "       [0., 0., 0., ..., 0., 0., 0.],\n",
              "       ...,\n",
              "       [0., 0., 0., ..., 0., 0., 0.],\n",
              "       [0., 0., 0., ..., 0., 0., 0.],\n",
              "       [0., 0., 0., ..., 0., 1., 0.]], dtype=float32)"
            ]
          },
          "metadata": {},
          "execution_count": 15
        }
      ]
    },
    {
      "cell_type": "code",
      "metadata": {
        "id": "wWXDQKNBzp6E",
        "colab": {
          "base_uri": "https://localhost:8080/"
        },
        "outputId": "ea84881d-124a-4d49-ccfb-fa9b494472bc"
      },
      "source": [
        "test_labels = to_categorical(test_labels)\n",
        "test_labels"
      ],
      "execution_count": null,
      "outputs": [
        {
          "output_type": "execute_result",
          "data": {
            "text/plain": [
              "array([[0., 0., 0., ..., 1., 0., 0.],\n",
              "       [0., 0., 1., ..., 0., 0., 0.],\n",
              "       [0., 1., 0., ..., 0., 0., 0.],\n",
              "       ...,\n",
              "       [0., 0., 0., ..., 0., 0., 0.],\n",
              "       [0., 0., 0., ..., 0., 0., 0.],\n",
              "       [0., 0., 0., ..., 0., 0., 0.]], dtype=float32)"
            ]
          },
          "metadata": {},
          "execution_count": 16
        }
      ]
    },
    {
      "cell_type": "markdown",
      "metadata": {
        "id": "csJ7yQVxzp6I"
      },
      "source": [
        "# Training and Testing"
      ]
    },
    {
      "cell_type": "markdown",
      "metadata": {
        "id": "P-KLV-VIzp6K"
      },
      "source": [
        "We are now ready to train the network, which in Keras is done via a call to the network's fit method--we fit the model to its training data:"
      ]
    },
    {
      "cell_type": "code",
      "metadata": {
        "id": "sGWa7zXYzp6O",
        "outputId": "7fab38c9-da0d-461e-c8d3-247b2d2408ed",
        "colab": {
          "base_uri": "https://localhost:8080/"
        }
      },
      "source": [
        "network.fit(train_images, train_labels, epochs=100, batch_size=50\n",
        "            )"
      ],
      "execution_count": null,
      "outputs": [
        {
          "output_type": "stream",
          "name": "stdout",
          "text": [
            "Epoch 1/100\n",
            "1200/1200 [==============================] - 4s 3ms/step - loss: 0.0148 - accuracy: 0.9963\n",
            "Epoch 2/100\n",
            "1200/1200 [==============================] - 4s 3ms/step - loss: 0.0119 - accuracy: 0.9969\n",
            "Epoch 3/100\n",
            "1200/1200 [==============================] - 3s 3ms/step - loss: 0.0122 - accuracy: 0.9968\n",
            "Epoch 4/100\n",
            "1200/1200 [==============================] - 4s 3ms/step - loss: 0.0116 - accuracy: 0.9972\n",
            "Epoch 5/100\n",
            "1200/1200 [==============================] - 3s 3ms/step - loss: 0.0094 - accuracy: 0.9979\n",
            "Epoch 6/100\n",
            "1200/1200 [==============================] - 3s 3ms/step - loss: 0.0116 - accuracy: 0.9969\n",
            "Epoch 7/100\n",
            "1200/1200 [==============================] - 3s 3ms/step - loss: 0.0102 - accuracy: 0.9973\n",
            "Epoch 8/100\n",
            "1200/1200 [==============================] - 3s 3ms/step - loss: 0.0085 - accuracy: 0.9982\n",
            "Epoch 9/100\n",
            "1200/1200 [==============================] - 4s 3ms/step - loss: 0.0110 - accuracy: 0.9972\n",
            "Epoch 10/100\n",
            "1200/1200 [==============================] - 4s 3ms/step - loss: 0.0092 - accuracy: 0.9979\n",
            "Epoch 11/100\n",
            "1200/1200 [==============================] - 4s 3ms/step - loss: 0.0083 - accuracy: 0.9981\n",
            "Epoch 12/100\n",
            "1200/1200 [==============================] - 3s 3ms/step - loss: 0.0107 - accuracy: 0.9974\n",
            "Epoch 13/100\n",
            "1200/1200 [==============================] - 3s 3ms/step - loss: 0.0097 - accuracy: 0.9975\n",
            "Epoch 14/100\n",
            "1200/1200 [==============================] - 4s 3ms/step - loss: 0.0080 - accuracy: 0.9982\n",
            "Epoch 15/100\n",
            "1200/1200 [==============================] - 3s 3ms/step - loss: 0.0105 - accuracy: 0.9973\n",
            "Epoch 16/100\n",
            "1200/1200 [==============================] - 3s 3ms/step - loss: 0.0084 - accuracy: 0.9981\n",
            "Epoch 17/100\n",
            "1200/1200 [==============================] - 3s 3ms/step - loss: 0.0089 - accuracy: 0.9977\n",
            "Epoch 18/100\n",
            "1200/1200 [==============================] - 3s 3ms/step - loss: 0.0077 - accuracy: 0.9984\n",
            "Epoch 19/100\n",
            "1200/1200 [==============================] - 4s 3ms/step - loss: 0.0085 - accuracy: 0.9980\n",
            "Epoch 20/100\n",
            "1200/1200 [==============================] - 4s 3ms/step - loss: 0.0088 - accuracy: 0.9979\n",
            "Epoch 21/100\n",
            "1200/1200 [==============================] - 3s 3ms/step - loss: 0.0069 - accuracy: 0.9986\n",
            "Epoch 22/100\n",
            "1200/1200 [==============================] - 4s 3ms/step - loss: 0.0098 - accuracy: 0.9975\n",
            "Epoch 23/100\n",
            "1200/1200 [==============================] - 3s 3ms/step - loss: 0.0086 - accuracy: 0.9980\n",
            "Epoch 24/100\n",
            "1200/1200 [==============================] - 3s 3ms/step - loss: 0.0070 - accuracy: 0.9984\n",
            "Epoch 25/100\n",
            "1200/1200 [==============================] - 3s 3ms/step - loss: 0.0088 - accuracy: 0.9976\n",
            "Epoch 26/100\n",
            "1200/1200 [==============================] - 3s 3ms/step - loss: 0.0074 - accuracy: 0.9983\n",
            "Epoch 27/100\n",
            "1200/1200 [==============================] - 4s 3ms/step - loss: 0.0096 - accuracy: 0.9975\n",
            "Epoch 28/100\n",
            "1200/1200 [==============================] - 4s 3ms/step - loss: 0.0080 - accuracy: 0.9980\n",
            "Epoch 29/100\n",
            "1200/1200 [==============================] - 3s 3ms/step - loss: 0.0059 - accuracy: 0.9988\n",
            "Epoch 30/100\n",
            "1200/1200 [==============================] - 3s 3ms/step - loss: 0.0096 - accuracy: 0.9976\n",
            "Epoch 31/100\n",
            "1200/1200 [==============================] - 3s 3ms/step - loss: 0.0059 - accuracy: 0.9988\n",
            "Epoch 32/100\n",
            "1200/1200 [==============================] - 3s 3ms/step - loss: 0.0085 - accuracy: 0.9978\n",
            "Epoch 33/100\n",
            "1200/1200 [==============================] - 3s 3ms/step - loss: 0.0083 - accuracy: 0.9979\n",
            "Epoch 34/100\n",
            "1200/1200 [==============================] - 4s 3ms/step - loss: 0.0066 - accuracy: 0.9985\n",
            "Epoch 35/100\n",
            "1200/1200 [==============================] - 3s 3ms/step - loss: 0.0083 - accuracy: 0.9979\n",
            "Epoch 36/100\n",
            "1200/1200 [==============================] - 4s 3ms/step - loss: 0.0073 - accuracy: 0.9983\n",
            "Epoch 37/100\n",
            "1200/1200 [==============================] - 3s 3ms/step - loss: 0.0068 - accuracy: 0.9984\n",
            "Epoch 38/100\n",
            "1200/1200 [==============================] - 3s 3ms/step - loss: 0.0078 - accuracy: 0.9981\n",
            "Epoch 39/100\n",
            "1200/1200 [==============================] - 3s 3ms/step - loss: 0.0062 - accuracy: 0.9987\n",
            "Epoch 40/100\n",
            "1200/1200 [==============================] - 3s 3ms/step - loss: 0.0079 - accuracy: 0.9981\n",
            "Epoch 41/100\n",
            "1200/1200 [==============================] - 4s 3ms/step - loss: 0.0067 - accuracy: 0.9986\n",
            "Epoch 42/100\n",
            "1200/1200 [==============================] - 3s 3ms/step - loss: 0.0092 - accuracy: 0.9976\n",
            "Epoch 43/100\n",
            "1200/1200 [==============================] - 3s 3ms/step - loss: 0.0059 - accuracy: 0.9987\n",
            "Epoch 44/100\n",
            "1200/1200 [==============================] - 3s 3ms/step - loss: 0.0092 - accuracy: 0.9976\n",
            "Epoch 45/100\n",
            "1200/1200 [==============================] - 4s 3ms/step - loss: 0.0062 - accuracy: 0.9986\n",
            "Epoch 46/100\n",
            "1200/1200 [==============================] - 4s 3ms/step - loss: 0.0076 - accuracy: 0.9981\n",
            "Epoch 47/100\n",
            "1200/1200 [==============================] - 3s 3ms/step - loss: 0.0076 - accuracy: 0.9982\n",
            "Epoch 48/100\n",
            "1200/1200 [==============================] - 3s 3ms/step - loss: 0.0078 - accuracy: 0.9980\n",
            "Epoch 49/100\n",
            "1200/1200 [==============================] - 3s 3ms/step - loss: 0.0069 - accuracy: 0.9982\n",
            "Epoch 50/100\n",
            "1200/1200 [==============================] - 3s 3ms/step - loss: 0.0044 - accuracy: 0.9992\n",
            "Epoch 51/100\n",
            "1200/1200 [==============================] - 4s 3ms/step - loss: 0.0089 - accuracy: 0.9977\n",
            "Epoch 52/100\n",
            "1200/1200 [==============================] - 3s 3ms/step - loss: 0.0070 - accuracy: 0.9984\n",
            "Epoch 53/100\n",
            "1200/1200 [==============================] - 4s 3ms/step - loss: 0.0048 - accuracy: 0.9991\n",
            "Epoch 54/100\n",
            "1200/1200 [==============================] - 3s 3ms/step - loss: 0.0104 - accuracy: 0.9970\n",
            "Epoch 55/100\n",
            "1200/1200 [==============================] - 3s 3ms/step - loss: 0.0056 - accuracy: 0.9988\n",
            "Epoch 56/100\n",
            "1200/1200 [==============================] - 4s 3ms/step - loss: 0.0042 - accuracy: 0.9992\n",
            "Epoch 57/100\n",
            "1200/1200 [==============================] - 4s 3ms/step - loss: 0.0120 - accuracy: 0.9967\n",
            "Epoch 58/100\n",
            "1200/1200 [==============================] - 4s 3ms/step - loss: 0.0057 - accuracy: 0.9987\n",
            "Epoch 59/100\n",
            "1200/1200 [==============================] - 4s 3ms/step - loss: 0.0050 - accuracy: 0.9989\n",
            "Epoch 60/100\n",
            "1200/1200 [==============================] - 3s 3ms/step - loss: 0.0081 - accuracy: 0.9980\n",
            "Epoch 61/100\n",
            "1200/1200 [==============================] - 3s 3ms/step - loss: 0.0090 - accuracy: 0.9976\n",
            "Epoch 62/100\n",
            "1200/1200 [==============================] - 4s 3ms/step - loss: 0.0049 - accuracy: 0.9991\n",
            "Epoch 63/100\n",
            "1200/1200 [==============================] - 4s 3ms/step - loss: 0.0058 - accuracy: 0.9987\n",
            "Epoch 64/100\n",
            "1200/1200 [==============================] - 4s 3ms/step - loss: 0.0069 - accuracy: 0.9981\n",
            "Epoch 65/100\n",
            "1200/1200 [==============================] - 4s 3ms/step - loss: 0.0099 - accuracy: 0.9972\n",
            "Epoch 66/100\n",
            "1200/1200 [==============================] - 3s 3ms/step - loss: 0.0050 - accuracy: 0.9990\n",
            "Epoch 67/100\n",
            "1200/1200 [==============================] - 3s 3ms/step - loss: 0.0061 - accuracy: 0.9985\n",
            "Epoch 68/100\n",
            "1200/1200 [==============================] - 4s 3ms/step - loss: 0.0086 - accuracy: 0.9978\n",
            "Epoch 69/100\n",
            "1200/1200 [==============================] - 4s 3ms/step - loss: 0.0058 - accuracy: 0.9987\n",
            "Epoch 70/100\n",
            "1200/1200 [==============================] - 4s 3ms/step - loss: 0.0040 - accuracy: 0.9992\n",
            "Epoch 71/100\n",
            "1200/1200 [==============================] - 4s 3ms/step - loss: 0.0088 - accuracy: 0.9979\n",
            "Epoch 72/100\n",
            "1200/1200 [==============================] - 4s 3ms/step - loss: 0.0083 - accuracy: 0.9977\n",
            "Epoch 73/100\n",
            "1200/1200 [==============================] - 4s 3ms/step - loss: 0.0066 - accuracy: 0.9983\n",
            "Epoch 74/100\n",
            "1200/1200 [==============================] - 4s 3ms/step - loss: 0.0060 - accuracy: 0.9984\n",
            "Epoch 75/100\n",
            "1200/1200 [==============================] - 3s 3ms/step - loss: 0.0051 - accuracy: 0.9989\n",
            "Epoch 76/100\n",
            "1200/1200 [==============================] - 3s 3ms/step - loss: 0.0091 - accuracy: 0.9974\n",
            "Epoch 77/100\n",
            "1200/1200 [==============================] - 4s 3ms/step - loss: 0.0040 - accuracy: 0.9993\n",
            "Epoch 78/100\n",
            "1200/1200 [==============================] - 4s 3ms/step - loss: 0.0034 - accuracy: 0.9995\n",
            "Epoch 79/100\n",
            "1200/1200 [==============================] - 4s 3ms/step - loss: 0.0106 - accuracy: 0.9973\n",
            "Epoch 80/100\n",
            "1200/1200 [==============================] - 3s 3ms/step - loss: 0.0080 - accuracy: 0.9978\n",
            "Epoch 81/100\n",
            "1200/1200 [==============================] - 4s 3ms/step - loss: 0.0045 - accuracy: 0.9991\n",
            "Epoch 82/100\n",
            "1200/1200 [==============================] - 3s 3ms/step - loss: 0.0057 - accuracy: 0.9986\n",
            "Epoch 83/100\n",
            "1200/1200 [==============================] - 4s 3ms/step - loss: 0.0080 - accuracy: 0.9977\n",
            "Epoch 84/100\n",
            "1200/1200 [==============================] - 3s 3ms/step - loss: 0.0051 - accuracy: 0.9987\n",
            "Epoch 85/100\n",
            "1200/1200 [==============================] - 4s 3ms/step - loss: 0.0060 - accuracy: 0.9985\n",
            "Epoch 86/100\n",
            "1200/1200 [==============================] - 4s 3ms/step - loss: 0.0069 - accuracy: 0.9982\n",
            "Epoch 87/100\n",
            "1200/1200 [==============================] - 4s 3ms/step - loss: 0.0059 - accuracy: 0.9986\n",
            "Epoch 88/100\n",
            "1200/1200 [==============================] - 4s 3ms/step - loss: 0.0052 - accuracy: 0.9988\n",
            "Epoch 89/100\n",
            "1200/1200 [==============================] - 4s 3ms/step - loss: 0.0067 - accuracy: 0.9984\n",
            "Epoch 90/100\n",
            "1200/1200 [==============================] - 4s 3ms/step - loss: 0.0059 - accuracy: 0.9985\n",
            "Epoch 91/100\n",
            "1200/1200 [==============================] - 4s 3ms/step - loss: 0.0065 - accuracy: 0.9984\n",
            "Epoch 92/100\n",
            "1200/1200 [==============================] - 4s 3ms/step - loss: 0.0061 - accuracy: 0.9985\n",
            "Epoch 93/100\n",
            "1200/1200 [==============================] - 4s 3ms/step - loss: 0.0066 - accuracy: 0.9983\n",
            "Epoch 94/100\n",
            "1200/1200 [==============================] - 4s 3ms/step - loss: 0.0071 - accuracy: 0.9981\n",
            "Epoch 95/100\n",
            "1200/1200 [==============================] - 4s 3ms/step - loss: 0.0065 - accuracy: 0.9985\n",
            "Epoch 96/100\n",
            "1200/1200 [==============================] - 4s 3ms/step - loss: 0.0066 - accuracy: 0.9983\n",
            "Epoch 97/100\n",
            "1200/1200 [==============================] - 4s 3ms/step - loss: 0.0038 - accuracy: 0.9992\n",
            "Epoch 98/100\n",
            "1200/1200 [==============================] - 4s 3ms/step - loss: 0.0062 - accuracy: 0.9985\n",
            "Epoch 99/100\n",
            "1200/1200 [==============================] - 3s 3ms/step - loss: 0.0069 - accuracy: 0.9983\n",
            "Epoch 100/100\n",
            "1200/1200 [==============================] - 4s 3ms/step - loss: 0.0059 - accuracy: 0.9984\n"
          ]
        },
        {
          "output_type": "execute_result",
          "data": {
            "text/plain": [
              "<keras.callbacks.History at 0x7ff9b63e2cd0>"
            ]
          },
          "metadata": {},
          "execution_count": 26
        }
      ]
    },
    {
      "cell_type": "markdown",
      "metadata": {
        "id": "heVasO26zp6V"
      },
      "source": [
        "- Two quantities are displayed during training:\n",
        "    - The loss of the network over the training data\n",
        "    - The accuracy of the network over the training data\n",
        "    \n",
        "- We quickly reach an accuracy of **$0.9886 (98.86\\%)$** on the training data."
      ]
    },
    {
      "cell_type": "markdown",
      "metadata": {
        "id": "0eDaNGAYzp6X"
      },
      "source": [
        "- Now let's check that the model performs well on the test set, too:"
      ]
    },
    {
      "cell_type": "code",
      "metadata": {
        "id": "2-UhmyTWzp6Y",
        "outputId": "a3f9485a-f141-4a6b-be43-29ee1e20d25e",
        "colab": {
          "base_uri": "https://localhost:8080/"
        }
      },
      "source": [
        "test_loss, test_acc = network.evaluate(test_images, test_labels)"
      ],
      "execution_count": null,
      "outputs": [
        {
          "output_type": "stream",
          "name": "stdout",
          "text": [
            "313/313 [==============================] - 49s 2ms/step - loss: 0.2569 - accuracy: 0.9644\n"
          ]
        }
      ]
    },
    {
      "cell_type": "code",
      "metadata": {
        "id": "omz-cZXLzp6d",
        "outputId": "8ed3d904-de43-4be5-8e9d-b4dbfb926ba7",
        "colab": {
          "base_uri": "https://localhost:8080/"
        }
      },
      "source": [
        "print('Test Accuracy: {:.5f} '.format(test_acc))"
      ],
      "execution_count": null,
      "outputs": [
        {
          "output_type": "stream",
          "name": "stdout",
          "text": [
            "Test Accuracy: 0.96440 \n"
          ]
        }
      ]
    },
    {
      "cell_type": "code",
      "metadata": {
        "id": "cbIp64KFzp6g",
        "outputId": "aea196b7-2ed2-4e41-8d33-953b91652f59",
        "colab": {
          "base_uri": "https://localhost:8080/"
        }
      },
      "source": [
        "test_acc"
      ],
      "execution_count": null,
      "outputs": [
        {
          "output_type": "execute_result",
          "data": {
            "text/plain": [
              "0.967199981212616"
            ]
          },
          "metadata": {},
          "execution_count": 20
        }
      ]
    },
    {
      "cell_type": "markdown",
      "metadata": {
        "id": "yi5jDr-0zp6k"
      },
      "source": [
        "- The test-set accuracy turns out to be $97.780\\%$--that is quite a bit lower than the training set accuracy. This gap between training and test accuracy is an example of **overfitting**:the fact that the ML models tend to perform worse on new data than on their training data."
      ]
    },
    {
      "cell_type": "code",
      "metadata": {
        "id": "JOu1IQW6zp6l",
        "outputId": "d289ed5a-ade6-4f99-b998-b26085a809f1",
        "colab": {
          "base_uri": "https://localhost:8080/",
          "height": 369
        }
      },
      "source": [
        "from tensorflow.keras.utils import plot_model\n",
        "plot_model(network, to_file='model.png')"
      ],
      "execution_count": null,
      "outputs": [
        {
          "output_type": "execute_result",
          "data": {
            "text/plain": [
              "<IPython.core.display.Image object>"
            ],
            "image/png": "[encoded data removed]"
          },
          "metadata": {},
          "execution_count": 21
        }
      ]
    },
    {
      "cell_type": "code",
      "metadata": {
        "id": "LVvUxpAkOQuz",
        "outputId": "2870d0f5-bf2a-4e26-a610-b83bac15b78e",
        "colab": {
          "base_uri": "https://localhost:8080/",
          "height": 1000
        }
      },
      "source": [
        "import matplotlib.pyplot as plt\n",
        "history =network.fit(train_images, train_labels, validation_split=0.33,epochs=20, batch_size=64)\n",
        "history_dict = history.history\n",
        "print(history_dict.keys())\n",
        "plt.plot(history.history['accuracy'])\n",
        "plt.plot(history.history['val_accuracy'])\n",
        "plt.title('Model accuracy')\n",
        "plt.ylabel('Accuracy')\n",
        "plt.xlabel('Epoch')\n",
        "plt.legend(['Train', 'Test'], loc='upper left')\n",
        "plt.show()\n",
        "\n",
        "# Plot training & validation loss values\n",
        "plt.plot(history.history['loss'])\n",
        "plt.plot(history.history['val_loss'])\n",
        "plt.title('Model loss')\n",
        "plt.ylabel('Loss')\n",
        "plt.xlabel('Epoch')\n",
        "plt.legend(['Train', 'Test'], loc='upper left')\n",
        "plt.show()"
      ],
      "execution_count": null,
      "outputs": [
        {
          "output_type": "stream",
          "name": "stdout",
          "text": [
            "Epoch 1/20\n",
            "629/629 [==============================] - 3s 5ms/step - loss: 0.0294 - accuracy: 0.9916 - val_loss: 0.0377 - val_accuracy: 0.9886\n",
            "Epoch 2/20\n",
            "629/629 [==============================] - 4s 6ms/step - loss: 0.0266 - accuracy: 0.9925 - val_loss: 0.0387 - val_accuracy: 0.9885\n",
            "Epoch 3/20\n",
            "629/629 [==============================] - 3s 5ms/step - loss: 0.0238 - accuracy: 0.9934 - val_loss: 0.0398 - val_accuracy: 0.9887\n",
            "Epoch 4/20\n",
            "629/629 [==============================] - 4s 6ms/step - loss: 0.0219 - accuracy: 0.9940 - val_loss: 0.0453 - val_accuracy: 0.9865\n",
            "Epoch 5/20\n",
            "629/629 [==============================] - 4s 6ms/step - loss: 0.0214 - accuracy: 0.9944 - val_loss: 0.0441 - val_accuracy: 0.9858\n",
            "Epoch 6/20\n",
            "629/629 [==============================] - 4s 6ms/step - loss: 0.0189 - accuracy: 0.9951 - val_loss: 0.0492 - val_accuracy: 0.9841\n",
            "Epoch 7/20\n",
            "629/629 [==============================] - 4s 6ms/step - loss: 0.0202 - accuracy: 0.9948 - val_loss: 0.0528 - val_accuracy: 0.9834\n",
            "Epoch 8/20\n",
            "629/629 [==============================] - 4s 6ms/step - loss: 0.0175 - accuracy: 0.9956 - val_loss: 0.0535 - val_accuracy: 0.9834\n",
            "Epoch 9/20\n",
            "629/629 [==============================] - 4s 6ms/step - loss: 0.0156 - accuracy: 0.9962 - val_loss: 0.0555 - val_accuracy: 0.9821\n",
            "Epoch 10/20\n",
            "629/629 [==============================] - 4s 6ms/step - loss: 0.0137 - accuracy: 0.9968 - val_loss: 0.0628 - val_accuracy: 0.9808\n",
            "Epoch 11/20\n",
            "629/629 [==============================] - 4s 6ms/step - loss: 0.0185 - accuracy: 0.9948 - val_loss: 0.0594 - val_accuracy: 0.9820\n",
            "Epoch 12/20\n",
            "629/629 [==============================] - 4s 6ms/step - loss: 0.0118 - accuracy: 0.9976 - val_loss: 0.0679 - val_accuracy: 0.9792\n",
            "Epoch 13/20\n",
            "629/629 [==============================] - 4s 6ms/step - loss: 0.0136 - accuracy: 0.9967 - val_loss: 0.0638 - val_accuracy: 0.9808\n",
            "Epoch 14/20\n",
            "629/629 [==============================] - 4s 6ms/step - loss: 0.0133 - accuracy: 0.9968 - val_loss: 0.0711 - val_accuracy: 0.9790\n",
            "Epoch 15/20\n",
            "629/629 [==============================] - 3s 5ms/step - loss: 0.0107 - accuracy: 0.9977 - val_loss: 0.0760 - val_accuracy: 0.9777\n",
            "Epoch 16/20\n",
            "629/629 [==============================] - 3s 5ms/step - loss: 0.0133 - accuracy: 0.9963 - val_loss: 0.0752 - val_accuracy: 0.9774\n",
            "Epoch 17/20\n",
            "629/629 [==============================] - 4s 6ms/step - loss: 0.0110 - accuracy: 0.9972 - val_loss: 0.0789 - val_accuracy: 0.9783\n",
            "Epoch 18/20\n",
            "629/629 [==============================] - 4s 6ms/step - loss: 0.0100 - accuracy: 0.9976 - val_loss: 0.0749 - val_accuracy: 0.9785\n",
            "Epoch 19/20\n",
            "629/629 [==============================] - 3s 5ms/step - loss: 0.0120 - accuracy: 0.9965 - val_loss: 0.0913 - val_accuracy: 0.9749\n",
            "Epoch 20/20\n",
            "629/629 [==============================] - 3s 5ms/step - loss: 0.0086 - accuracy: 0.9981 - val_loss: 0.0818 - val_accuracy: 0.9765\n",
            "dict_keys(['loss', 'accuracy', 'val_loss', 'val_accuracy'])\n"
          ]
        },
        {
          "output_type": "display_data",
          "data": {
            "text/plain": [
              "<Figure size 432x288 with 1 Axes>"
            ],
            "image/png": "[encoded data removed]"
          },
          "metadata": {
            "needs_background": "light"
          }
        },
        {
          "output_type": "display_data",
          "data": {
            "text/plain": [
              "<Figure size 432x288 with 1 Axes>"
            ],
            "image/png": "[encoded data removed]"
          },
          "metadata": {
            "needs_background": "light"
          }
        }
      ]
    }
  ]
}